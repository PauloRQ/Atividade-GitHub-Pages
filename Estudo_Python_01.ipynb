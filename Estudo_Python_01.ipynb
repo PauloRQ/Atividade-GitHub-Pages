{
  "nbformat": 4,
  "nbformat_minor": 0,
  "metadata": {
    "colab": {
      "provenance": [],
      "authorship_tag": "ABX9TyP62FDnSoPfAqCUGqdS+gFu",
      "include_colab_link": true
    },
    "kernelspec": {
      "name": "python3",
      "display_name": "Python 3"
    },
    "language_info": {
      "name": "python"
    }
  },
  "cells": [
    {
      "cell_type": "markdown",
      "metadata": {
        "id": "view-in-github",
        "colab_type": "text"
      },
      "source": [
        "<a href=\"https://colab.research.google.com/github/PauloRQ/Atividade-GitHub-Pages/blob/main/Estudo_Python_01.ipynb\" target=\"_parent\"><img src=\"https://colab.research.google.com/assets/colab-badge.svg\" alt=\"Open In Colab\"/></a>"
      ]
    },
    {
      "cell_type": "code",
      "source": [],
      "metadata": {
        "id": "mQ-G47IqtrP5"
      },
      "execution_count": null,
      "outputs": []
    },
    {
      "cell_type": "markdown",
      "source": [
        "int (inteiro): Valor Númerico\n",
        "float (flutuante): Valor Decimal\n",
        "str (String): Texto\n"
      ],
      "metadata": {
        "id": "AaurGPCLtrk6"
      }
    },
    {
      "cell_type": "code",
      "source": [
        "print( 10 % 4  )"
      ],
      "metadata": {
        "colab": {
          "base_uri": "https://localhost:8080/"
        },
        "id": "KzJCqNpYs0Dr",
        "outputId": "88d32cd0-2a15-46d9-d8d9-640a5d4f16c7"
      },
      "execution_count": 5,
      "outputs": [
        {
          "output_type": "stream",
          "name": "stdout",
          "text": [
            "1.375\n"
          ]
        }
      ]
    },
    {
      "cell_type": "markdown",
      "source": [
        "# VÁRIAVEIS"
      ],
      "metadata": {
        "id": "Y9dFYhHAwFTR"
      }
    },
    {
      "cell_type": "code",
      "source": [
        "# Criado a Váriavel não preciso por \"\" caso eu coloque a Váriavel e não o seu produto\n",
        "\n",
        "fruta = \"Banana\"\n",
        "nome = \"Lan Code\"\n",
        "\n",
        "print(fruta)\n",
        "print(nome)\n"
      ],
      "metadata": {
        "colab": {
          "base_uri": "https://localhost:8080/"
        },
        "id": "Ym3Z6I_HwMXB",
        "outputId": "a17136e0-f11f-4b32-ca76-317f2087c749"
      },
      "execution_count": 8,
      "outputs": [
        {
          "output_type": "stream",
          "name": "stdout",
          "text": [
            "Banana\n",
            "Lan Code\n"
          ]
        }
      ]
    },
    {
      "cell_type": "code",
      "source": [
        "# Váriavel não pode começar com número, letras maiúsculas e Minúsculas se diferenciam. (Criar nomes descritivos para Váriaveis)\n",
        "Nome = \"Rangel\"\n",
        "nome = \"Paulo\"\n",
        "\n",
        "\n",
        "print(nome)\n",
        "print(Nome)"
      ],
      "metadata": {
        "colab": {
          "base_uri": "https://localhost:8080/"
        },
        "id": "PiGYVsAuwi4s",
        "outputId": "94b60d6a-b2f2-4116-8f6d-4f7f79c4ad94"
      },
      "execution_count": 9,
      "outputs": [
        {
          "output_type": "stream",
          "name": "stdout",
          "text": [
            "Paulo\n",
            "Rangel\n"
          ]
        }
      ]
    },
    {
      "cell_type": "code",
      "source": [
        "padaria_do_paulo = \"pão\"\n",
        "print(padaria_do_paulo)"
      ],
      "metadata": {
        "colab": {
          "base_uri": "https://localhost:8080/"
        },
        "id": "-GylSE04x31O",
        "outputId": "a94ecf4f-7778-4a8c-fd61-322538ee3ace"
      },
      "execution_count": 11,
      "outputs": [
        {
          "output_type": "stream",
          "name": "stdout",
          "text": [
            "pão\n"
          ]
        }
      ]
    },
    {
      "cell_type": "code",
      "source": [
        "num1 = 8\n",
        "num2 = 10\n",
        "resultado = num1 + num2\n",
        "\n",
        "print(resultado)"
      ],
      "metadata": {
        "colab": {
          "base_uri": "https://localhost:8080/"
        },
        "id": "6mcaKDAFyJRl",
        "outputId": "f0c7236f-1044-45e1-f647-a1c7719dbb7a"
      },
      "execution_count": 14,
      "outputs": [
        {
          "output_type": "stream",
          "name": "stdout",
          "text": [
            "18\n"
          ]
        }
      ]
    },
    {
      "cell_type": "markdown",
      "source": [
        "#Inputs\n"
      ],
      "metadata": {
        "id": "fLpTKRo0yh1A"
      }
    },
    {
      "cell_type": "code",
      "source": [
        "nome = input(\"Qual é o seu nome?\")\n",
        "idade = input(\"Qual é a sua idade?\")\n",
        "\n",
        "print (f\"o seu nome é {nome},  e sua idade é {idade}\")\n"
      ],
      "metadata": {
        "colab": {
          "base_uri": "https://localhost:8080/"
        },
        "id": "AFvngNhPymA4",
        "outputId": "43031a16-088a-4e54-d756-0595c7136410"
      },
      "execution_count": 21,
      "outputs": [
        {
          "output_type": "stream",
          "name": "stdout",
          "text": [
            "Qual é o seu nome?Rangel\n",
            "Qual é a sua idade?21\n",
            "o seu nome é Rangel, e sua idade é 21\n"
          ]
        }
      ]
    },
    {
      "cell_type": "markdown",
      "source": [
        "#Exercícios\n"
      ],
      "metadata": {
        "id": "0JonXzy-z6uC"
      }
    },
    {
      "cell_type": "markdown",
      "source": [
        "#A"
      ],
      "metadata": {
        "id": "ijJH-buD0BGT"
      }
    },
    {
      "cell_type": "code",
      "source": [
        "# Crie um código que exib a frase \"Olá, estou aprendendo Python\"\n",
        "print(\"Olá, estou aprendendo Python\")"
      ],
      "metadata": {
        "colab": {
          "base_uri": "https://localhost:8080/"
        },
        "id": "V6902YAK0Dd6",
        "outputId": "43cd1a22-6fb6-4ec3-c8eb-7106ba6efdd2"
      },
      "execution_count": 22,
      "outputs": [
        {
          "output_type": "stream",
          "name": "stdout",
          "text": [
            "Olá, estou aprendendo Python\n"
          ]
        }
      ]
    },
    {
      "cell_type": "markdown",
      "source": [
        "#B"
      ],
      "metadata": {
        "id": "ODi8SDFu0T-D"
      }
    },
    {
      "cell_type": "code",
      "source": [
        "# Crie um Código que pede a idade e o nome do usuário, e exibe ambos\n",
        "nome = input(\"Qual é o seu nome?\")\n",
        "idade = input(\"Qual é a sua idade?\")\n",
        "\n",
        "print(f\"o seu nome é {nome}, e a sua idade é {idade}\")"
      ],
      "metadata": {
        "colab": {
          "base_uri": "https://localhost:8080/"
        },
        "id": "z6rBzSBI0V5c",
        "outputId": "27eb2051-07b0-4122-953f-ec4e7d0a4d24"
      },
      "execution_count": 26,
      "outputs": [
        {
          "output_type": "stream",
          "name": "stdout",
          "text": [
            "Qual é o seu nome?Rangel\n",
            "Qual é a sua idade?21\n",
            "o seu nome é Rangel, e a sua idade é 21\n"
          ]
        }
      ]
    },
    {
      "cell_type": "markdown",
      "source": [
        "#C"
      ],
      "metadata": {
        "id": "fLue7qMD0dWr"
      }
    },
    {
      "cell_type": "code",
      "source": [
        "# Peça 2 números ao usuário, e em seguida, exiba a soma e a subtração deles (input não serve para subtrair textos) (antes use \"int\") (float Valor Decimal. exemplo: 5.5 )\n",
        "num1 = float(input(\"Digite um Número: \"))\n",
        "num2 = int(input(\"Digite outro Número: \"))\n",
        "\n",
        "resultado_soma = num1+num2\n",
        "resultado_subtracao = num1-num2\n",
        "\n",
        "print(resultado_soma)\n",
        "print(resultado_subtracao)"
      ],
      "metadata": {
        "colab": {
          "base_uri": "https://localhost:8080/"
        },
        "id": "aiuFl0Nw0fpZ",
        "outputId": "2f3c7e38-df6b-43c3-d138-10b76ff78c46"
      },
      "execution_count": 30,
      "outputs": [
        {
          "output_type": "stream",
          "name": "stdout",
          "text": [
            "Digite um Número: 5.5\n",
            "Digite outro Número: 6\n",
            "11.5\n",
            "-0.5\n"
          ]
        }
      ]
    }
  ]
}